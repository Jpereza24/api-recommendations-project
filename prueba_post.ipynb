{
 "cells": [
  {
   "cell_type": "code",
   "execution_count": 2,
   "metadata": {},
   "outputs": [],
   "source": [
    "from bottle import route, run, get, post, request\n",
    "from bson.json_util import dumps\n",
    "import json\n",
    "import dns\n",
    "import requests\n",
    "from src import mongo_connection as mc"
   ]
  },
  {
   "cell_type": "markdown",
   "metadata": {},
   "source": [
    "### Pruebas Post Usuario"
   ]
  },
  {
   "cell_type": "code",
   "execution_count": 68,
   "metadata": {},
   "outputs": [],
   "source": [
    "nombre_nuevo = {\"name\":\"Manucho\"}"
   ]
  },
  {
   "cell_type": "code",
   "execution_count": 69,
   "metadata": {},
   "outputs": [
    {
     "data": {
      "text/plain": [
       "<Response [200]>"
      ]
     },
     "execution_count": 69,
     "metadata": {},
     "output_type": "execute_result"
    }
   ],
   "source": [
    "requests.post(\"http://localhost:8080/user/create\", data=nombre_nuevo)"
   ]
  },
  {
   "cell_type": "markdown",
   "metadata": {},
   "source": [
    "### Preparación Post Message"
   ]
  },
  {
   "cell_type": "code",
   "execution_count": 71,
   "metadata": {},
   "outputs": [],
   "source": [
    "db, user = mc.connectCollection('apiproject', 'users')\n",
    "db1, coll = mc.connectCollection('apiproject', 'chats') "
   ]
  },
  {
   "cell_type": "code",
   "execution_count": 78,
   "metadata": {},
   "outputs": [
    {
     "data": {
      "text/plain": [
       "[{'idUser': 0, 'userName': 'John Wick'},\n",
       " {'idUser': 1, 'userName': 'Mike Wazowski'},\n",
       " {'idUser': 2, 'userName': 'Leia Organa'},\n",
       " {'idUser': 3, 'userName': 'Tony Stark'},\n",
       " {'idUser': 4, 'userName': 'Ellen Ripley'},\n",
       " {'idUser': 5, 'userName': 'J. Jonah Jameson'},\n",
       " {'idUser': 6, 'userName': 'Danny Torrances Finger'},\n",
       " {'idUser': 7, 'userName': 'Danny Torrance'},\n",
       " {'idUser': 8, 'userName': 'Gonzalo Colsa'},\n",
       " {'idUser': 9, 'userName': 'Manucho'}]"
      ]
     },
     "execution_count": 78,
     "metadata": {},
     "output_type": "execute_result"
    }
   ],
   "source": [
    "usuarios = list(user.aggregate([{'$project':{'userName':1, 'idUser':1, '_id':0}}]))\n",
    "usuarios"
   ]
  },
  {
   "cell_type": "code",
   "execution_count": 91,
   "metadata": {},
   "outputs": [],
   "source": [
    "name = 'Leia Organa'\n",
    "resultado = {}"
   ]
  },
  {
   "cell_type": "code",
   "execution_count": 92,
   "metadata": {},
   "outputs": [],
   "source": [
    "for i in range(len(usuarios)):\n",
    "    if usuarios[i]['userName']==name:\n",
    "        resultado['idUser'] = usuarios[i]['idUser']\n",
    "        resultado['userName']= name\n",
    "else:\n",
    "    resultado['userName']= name"
   ]
  },
  {
   "cell_type": "code",
   "execution_count": 93,
   "metadata": {},
   "outputs": [
    {
     "data": {
      "text/plain": [
       "{'idUser': 2, 'userName': 'Leia Organa'}"
      ]
     },
     "execution_count": 93,
     "metadata": {},
     "output_type": "execute_result"
    }
   ],
   "source": [
    "resultado"
   ]
  },
  {
   "cell_type": "code",
   "execution_count": 95,
   "metadata": {},
   "outputs": [],
   "source": [
    "array = {\"name\": \"Gandalf\", \"message\": \"Anything to smoke here?\"}"
   ]
  },
  {
   "cell_type": "code",
   "execution_count": 96,
   "metadata": {},
   "outputs": [
    {
     "data": {
      "text/plain": [
       "<Response [200]>"
      ]
     },
     "execution_count": 96,
     "metadata": {},
     "output_type": "execute_result"
    }
   ],
   "source": [
    "requests.post(\"http://localhost:8080/chat/0/addmessage\", data=array)\n",
    "#requests.post(\"http://localhost:8080/user/create\", data=nombre_nuevo)"
   ]
  },
  {
   "cell_type": "code",
   "execution_count": 53,
   "metadata": {},
   "outputs": [],
   "source": [
    "array = {'idUser':0, 'idMessage':2, 'text': 'good vibes'}"
   ]
  },
  {
   "cell_type": "code",
   "execution_count": 54,
   "metadata": {},
   "outputs": [],
   "source": [
    "def cosa(array,lista,chat_id,idUser):\n",
    "    username = \"\"\n",
    "    for dicc in lista:\n",
    "        if dicc['idUser'] == idUser:\n",
    "            username += dicc['userName']\n",
    "    new_message = {\n",
    "        \"idChat\":chat_id,\n",
    "        \"idUser\":idUser,\n",
    "        \"userName\": username,\n",
    "        \"idMessage\":array['idMessage'],\n",
    "        \"text\":array['text']\n",
    "    }\n",
    "    return new_message"
   ]
  },
  {
   "cell_type": "code",
   "execution_count": 55,
   "metadata": {},
   "outputs": [
    {
     "data": {
      "text/plain": [
       "{'idChat': 0,\n",
       " 'idUser': 0,\n",
       " 'userName': 'John Wick',\n",
       " 'idMessage': 2,\n",
       " 'text': 'good vibes'}"
      ]
     },
     "execution_count": 55,
     "metadata": {},
     "output_type": "execute_result"
    }
   ],
   "source": [
    "cosa(array,lista,0,0)"
   ]
  },
  {
   "cell_type": "code",
   "execution_count": null,
   "metadata": {},
   "outputs": [],
   "source": []
  },
  {
   "cell_type": "code",
   "execution_count": 28,
   "metadata": {},
   "outputs": [],
   "source": [
    "dicci={}\n",
    "idUser=0\n",
    "for dicc in prueba:\n",
    "    for key, values in dicc.items():\n",
    "        if dicc['idUser']==idUser:\n",
    "            dicci['idUser'] = idUser\n",
    "            dicci['userName'] = dicc['userName']\n",
    "    "
   ]
  },
  {
   "cell_type": "code",
   "execution_count": 29,
   "metadata": {},
   "outputs": [
    {
     "data": {
      "text/plain": [
       "{'idUser': 0, 'userName': 'John Wick'}"
      ]
     },
     "execution_count": 29,
     "metadata": {},
     "output_type": "execute_result"
    }
   ],
   "source": [
    "dicci"
   ]
  },
  {
   "cell_type": "code",
   "execution_count": null,
   "metadata": {},
   "outputs": [],
   "source": []
  }
 ],
 "metadata": {
  "kernelspec": {
   "display_name": "Python 3",
   "language": "python",
   "name": "python3"
  },
  "language_info": {
   "codemirror_mode": {
    "name": "ipython",
    "version": 3
   },
   "file_extension": ".py",
   "mimetype": "text/x-python",
   "name": "python",
   "nbconvert_exporter": "python",
   "pygments_lexer": "ipython3",
   "version": "3.7.5rc1"
  }
 },
 "nbformat": 4,
 "nbformat_minor": 2
}
