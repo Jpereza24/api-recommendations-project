{
 "cells": [
  {
   "cell_type": "code",
   "execution_count": 2,
   "metadata": {},
   "outputs": [],
   "source": [
    "from bottle import route, run, get, post, request\n",
    "from bson.json_util import dumps\n",
    "import json\n",
    "import dns\n",
    "import requests\n",
    "from src import mongo_connection as mc"
   ]
  },
  {
   "cell_type": "markdown",
   "metadata": {},
   "source": [
    "### Pruebas Post Usuario"
   ]
  },
  {
   "cell_type": "code",
   "execution_count": 68,
   "metadata": {},
   "outputs": [],
   "source": [
    "nombre_nuevo = {\"name\":\"Manucho\"}"
   ]
  },
  {
   "cell_type": "code",
   "execution_count": 69,
   "metadata": {},
   "outputs": [
    {
     "data": {
      "text/plain": [
       "<Response [200]>"
      ]
     },
     "execution_count": 69,
     "metadata": {},
     "output_type": "execute_result"
    }
   ],
   "source": [
    "requests.post(\"http://localhost:8080/user/create\", data=nombre_nuevo)"
   ]
  },
  {
   "cell_type": "markdown",
   "metadata": {},
   "source": [
    "### Post Message"
   ]
  },
  {
   "cell_type": "code",
   "execution_count": 135,
   "metadata": {},
   "outputs": [],
   "source": [
    "array = {\"name\": \"Borat\", \"message\": \"Wawawiwa, king in the castle!\"}"
   ]
  },
  {
   "cell_type": "code",
   "execution_count": 125,
   "metadata": {},
   "outputs": [],
   "source": [
    "array1 = {\"name\":\"Tony Stark\", \"message\": \"That's not good\"}"
   ]
  },
  {
   "cell_type": "code",
   "execution_count": 136,
   "metadata": {},
   "outputs": [
    {
     "data": {
      "text/plain": [
       "<Response [200]>"
      ]
     },
     "execution_count": 136,
     "metadata": {},
     "output_type": "execute_result"
    }
   ],
   "source": [
    "requests.post(\"http://localhost:8080/chat/2/addmessage\", data=array)"
   ]
  },
  {
   "cell_type": "markdown",
   "metadata": {},
   "source": [
    "### Sentiments"
   ]
  },
  {
   "cell_type": "code",
   "execution_count": 138,
   "metadata": {},
   "outputs": [
    {
     "name": "stderr",
     "output_type": "stream",
     "text": [
      "[nltk_data] Downloading package vader_lexicon to\n",
      "[nltk_data]     /home/joaquin/nltk_data...\n"
     ]
    }
   ],
   "source": [
    "import nltk\n",
    "nltk.download('vader_lexicon')\n",
    "from nltk.sentiment.vader import SentimentIntensityAnalyzer"
   ]
  },
  {
   "cell_type": "code",
   "execution_count": 149,
   "metadata": {},
   "outputs": [
    {
     "data": {
      "text/plain": [
       "{'neg': 0.0, 'neu': 1.0, 'pos': 0.0, 'compound': 0.0}"
      ]
     },
     "execution_count": 149,
     "metadata": {},
     "output_type": "execute_result"
    }
   ],
   "source": [
    "sid = SentimentIntensityAnalyzer()\n",
    "\n",
    "sid.polarity_scores(\"smoke\")"
   ]
  },
  {
   "cell_type": "code",
   "execution_count": 153,
   "metadata": {},
   "outputs": [],
   "source": [
    "url = \"http://localhost:8080/0/messages\"\n",
    "prueba = requests.get(url).json()"
   ]
  },
  {
   "cell_type": "code",
   "execution_count": 157,
   "metadata": {},
   "outputs": [],
   "source": [
    "lista =  [e['text'] for e in prueba]\n",
    "sentimiento = [sid.polarity_scores(string) for string in lista]"
   ]
  },
  {
   "cell_type": "code",
   "execution_count": 166,
   "metadata": {},
   "outputs": [
    {
     "data": {
      "text/plain": [
       "[{'neg': 0.0, 'neu': 1.0, 'pos': 0.0, 'compound': 0.0},\n",
       " {'neg': 0.0, 'neu': 1.0, 'pos': 0.0, 'compound': 0.0},\n",
       " {'neg': 0.268, 'neu': 0.732, 'pos': 0.0, 'compound': -0.296},\n",
       " {'neg': 0.0, 'neu': 0.39, 'pos': 0.61, 'compound': 0.6892},\n",
       " {'neg': 0.555, 'neu': 0.445, 'pos': 0.0, 'compound': -0.3595},\n",
       " {'neg': 0.0, 'neu': 1.0, 'pos': 0.0, 'compound': 0.0},\n",
       " {'neg': 0.444, 'neu': 0.556, 'pos': 0.0, 'compound': -0.34},\n",
       " {'neg': 0.0, 'neu': 0.753, 'pos': 0.247, 'compound': 0.3182},\n",
       " {'neg': 0.71, 'neu': 0.29, 'pos': 0.0, 'compound': -0.7088},\n",
       " {'neg': 0.658, 'neu': 0.342, 'pos': 0.0, 'compound': -0.8268},\n",
       " {'neg': 0.0, 'neu': 1.0, 'pos': 0.0, 'compound': 0.0},\n",
       " {'neg': 0.0, 'neu': 0.543, 'pos': 0.457, 'compound': 0.6369},\n",
       " {'neg': 0.546, 'neu': 0.454, 'pos': 0.0, 'compound': -0.3412}]"
      ]
     },
     "execution_count": 166,
     "metadata": {},
     "output_type": "execute_result"
    }
   ],
   "source": []
  },
  {
   "cell_type": "code",
   "execution_count": 167,
   "metadata": {},
   "outputs": [
    {
     "data": {
      "text/plain": [
       "0.2446923076923077"
      ]
     },
     "execution_count": 167,
     "metadata": {},
     "output_type": "execute_result"
    }
   ],
   "source": []
  },
  {
   "cell_type": "code",
   "execution_count": 168,
   "metadata": {},
   "outputs": [],
   "source": [
    "db, coll = mc.connectCollection('apiproject','chats')\n",
    "db1, user = mc.connectCollection('apiproject', 'users')"
   ]
  },
  {
   "cell_type": "code",
   "execution_count": 189,
   "metadata": {},
   "outputs": [],
   "source": [
    "query = list(coll.find({'userName':'John Wick'},{'text':1,'userName':1,'_id':0}))"
   ]
  },
  {
   "cell_type": "code",
   "execution_count": 194,
   "metadata": {},
   "outputs": [],
   "source": [
    "registro = list(user.aggregate([{'$project':{'userName':1,'_id':0}}]))"
   ]
  },
  {
   "cell_type": "code",
   "execution_count": 195,
   "metadata": {},
   "outputs": [
    {
     "data": {
      "text/plain": [
       "[{'userName': 'John Wick'},\n",
       " {'userName': 'Mike Wazowski'},\n",
       " {'userName': 'Leia Organa'},\n",
       " {'userName': 'Ellen Ripley'},\n",
       " {'userName': 'J. Jonah Jameson'},\n",
       " {'userName': 'Danny Torrances Finger'},\n",
       " {'userName': 'Danny Torrance'},\n",
       " {'userName': 'Gonzalo Colsa'},\n",
       " {'userName': 'Manucho'},\n",
       " {'userName': 'Gandalf'},\n",
       " {'userName': 'Tony Stark'},\n",
       " {'userName': 'Gollum'},\n",
       " {'userName': 'Borat'}]"
      ]
     },
     "execution_count": 195,
     "metadata": {},
     "output_type": "execute_result"
    }
   ],
   "source": [
    "registro"
   ]
  },
  {
   "cell_type": "code",
   "execution_count": 199,
   "metadata": {},
   "outputs": [
    {
     "data": {
      "text/plain": [
       "'John Wick'"
      ]
     },
     "execution_count": 199,
     "metadata": {},
     "output_type": "execute_result"
    }
   ],
   "source": []
  },
  {
   "cell_type": "code",
   "execution_count": 201,
   "metadata": {},
   "outputs": [],
   "source": []
  },
  {
   "cell_type": "code",
   "execution_count": 202,
   "metadata": {},
   "outputs": [
    {
     "data": {
      "text/plain": [
       "[{'userName': 'John Wick',\n",
       "  'messages': [{'text': 'Hey Mike, whats up??'},\n",
       "   {'text': 'No, had to work. How was it?'},\n",
       "   {'text': 'No way! 😮️'},\n",
       "   {'text': 'I bet people went crazy'},\n",
       "   {'text': 'Motherfucker! Hungover? 😵️'},\n",
       "   {'text': 'Sure, boss.'},\n",
       "   {'text': 'I do! I just dont feel appreciated in my job'},\n",
       "   {'text': 'I dunno...'},\n",
       "   {'text': 'Maybe'},\n",
       "   {'text': 'Thank you, boss! I feel much better...'}]},\n",
       " {'userName': 'Mike Wazowski',\n",
       "  'messages': [{'text': 'Dude!!! 😀️ Did you watch the game last night?'},\n",
       "   {'text': 'Awesome! Boyander scored 3 goals!'},\n",
       "   {'text': 'Way...'},\n",
       "   {'text': 'For sure. We stayed at KuboLoco until 6AM.'},\n",
       "   {'text': 'Dead, burried and still suffering! 🤮️'},\n",
       "   {'text': 'Sweety pie! How Ive longed to talk to you.'},\n",
       "   {'text': 'Its Mike, honey bunny. Or doctor LOVE! And youre a sick little girl.'},\n",
       "   {'text': 'Cant handle me on your own?'},\n",
       "   {'text': 'That would be hot... 🔥️'},\n",
       "   {'text': 'I NEED VODKA LIKE A CAR NEEDS GAS'}]},\n",
       " {'userName': 'Leia Organa',\n",
       "  'messages': [{'text': 'Im so angry right now!'},\n",
       "   {'text': 'Impossible! Cant do it! Just cant! He pissed me off so much.'},\n",
       "   {'text': 'But how am I suposed to fix the facial recognition system if it doesnt even work?'},\n",
       "   {'text': 'And who the hell is Tony? 🤯️'},\n",
       "   {'text': 'Oh shit. I think youre friends with my brother.'},\n",
       "   {'text': 'I have the best herb from Tatooine'}]},\n",
       " {'userName': 'Ellen Ripley',\n",
       "  'messages': [{'text': 'Not again, Michael.... 😒️'},\n",
       "   {'text': 'Im gonna report you to Human Resources again, Michael.'},\n",
       "   {'text': 'Id rather have a fucking alien crawling out of my ass'},\n",
       "   {'text': 'Ok, youve got to stop drinking! Im calling HR.'},\n",
       "   {'text': 'Dude... Alcoholics Anonymous: https://www.aa.org'}]},\n",
       " {'userName': 'J. Jonah Jameson',\n",
       "  'messages': [{'text': 'I want pictures of Spiderman and I want them now!'},\n",
       "   {'text': 'Youve got to take me seriously.'},\n",
       "   {'text': 'Thats why youve got to get those damm pictures!!'},\n",
       "   {'text': 'Get the god damn motherfucking fuckity fuck bloody ballsack pictures'},\n",
       "   {'text': 'Youve got to! And I believe in you'}]},\n",
       " {'userName': 'Danny Torrances Finger',\n",
       "  'messages': [{'text': 'REDRUM'},\n",
       "   {'text': 'REDRUM REDRUM REDRUM'},\n",
       "   {'text': 'Murder, bro, cold blooded splashy murderous fun'},\n",
       "   {'text': 'A nice day to create havoc!'},\n",
       "   {'text': 'Fishing sounds good. What about the labyrinth?'}]},\n",
       " {'userName': 'Danny Torrance',\n",
       "  'messages': [{'text': 'What was that?'},\n",
       "   {'text': 'Did you mean red room? Id love a red room.'},\n",
       "   {'text': 'Chill out, pinky.. Its such a nice day'},\n",
       "   {'text': 'Ill go for a walk in the park, I guess. Maybe fishing'},\n",
       "   {'text': 'No! That places creeps me out..'}]},\n",
       " {'userName': 'Gonzalo Colsa', 'messages': []},\n",
       " {'userName': 'Manucho', 'messages': []},\n",
       " {'userName': 'Gandalf', 'messages': [{'text': 'Anything to smoke here?'}]},\n",
       " {'userName': 'Tony Stark',\n",
       "  'messages': [{'text': 'I saw you this morning. You shouldnt get so upset. ❤️'},\n",
       "   {'text': 'Dont get so frustrated, Leia. Remember what German said.'},\n",
       "   {'text': 'Im sure you will find a way.'},\n",
       "   {'text': 'I am Iron Man'},\n",
       "   {'text': 'Uh-Oh. Better fix that quickly.'},\n",
       "   {'text': \"That's not good\"}]},\n",
       " {'userName': 'Gollum', 'messages': [{'text': 'My trrreasure'}]},\n",
       " {'userName': 'Borat',\n",
       "  'messages': [{'text': 'Wawawiwa, king in the castle!'}]}]"
      ]
     },
     "execution_count": 202,
     "metadata": {},
     "output_type": "execute_result"
    }
   ],
   "source": [
    "messages_user"
   ]
  },
  {
   "cell_type": "code",
   "execution_count": null,
   "metadata": {},
   "outputs": [],
   "source": []
  },
  {
   "cell_type": "code",
   "execution_count": null,
   "metadata": {},
   "outputs": [],
   "source": []
  },
  {
   "cell_type": "code",
   "execution_count": null,
   "metadata": {},
   "outputs": [],
   "source": []
  }
 ],
 "metadata": {
  "kernelspec": {
   "display_name": "Python 3",
   "language": "python",
   "name": "python3"
  },
  "language_info": {
   "codemirror_mode": {
    "name": "ipython",
    "version": 3
   },
   "file_extension": ".py",
   "mimetype": "text/x-python",
   "name": "python",
   "nbconvert_exporter": "python",
   "pygments_lexer": "ipython3",
   "version": "3.7.5rc1"
  }
 },
 "nbformat": 4,
 "nbformat_minor": 2
}
