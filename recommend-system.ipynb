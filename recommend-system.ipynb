{
 "cells": [
  {
   "cell_type": "code",
   "execution_count": 14,
   "metadata": {},
   "outputs": [],
   "source": [
    "import pandas as pd\n",
    "import requests\n",
    "import nltk\n",
    "from scipy.spatial.distance import pdist, squareform\n",
    "from src import mongo_connection as mc"
   ]
  },
  {
   "cell_type": "code",
   "execution_count": 6,
   "metadata": {},
   "outputs": [],
   "source": [
    "url = \"http://localhost:8080/users/messages\"\n",
    "prueba = requests.get(url).json()"
   ]
  },
  {
   "cell_type": "code",
   "execution_count": 8,
   "metadata": {},
   "outputs": [],
   "source": [
    "df = pd.DataFrame(prueba)"
   ]
  },
  {
   "cell_type": "code",
   "execution_count": 10,
   "metadata": {},
   "outputs": [],
   "source": [
    "df = pd.concat([df.drop(['messages'], axis=1), df['messages'].apply(pd.Series)], axis=1)"
   ]
  },
  {
   "cell_type": "code",
   "execution_count": 15,
   "metadata": {},
   "outputs": [],
   "source": [
    "db, coll = mc.connectCollection('apiproject','users')"
   ]
  },
  {
   "cell_type": "code",
   "execution_count": 16,
   "metadata": {},
   "outputs": [],
   "source": [
    "query = list(coll.find({},{'userName':1,\"text\":1,'_id':0}))"
   ]
  },
  {
   "cell_type": "code",
   "execution_count": 17,
   "metadata": {},
   "outputs": [
    {
     "data": {
      "text/plain": [
       "[{'userName': 'John Wick'},\n",
       " {'userName': 'Mike Wazowski'},\n",
       " {'userName': 'Leia Organa'},\n",
       " {'userName': 'Ellen Ripley'},\n",
       " {'userName': 'J. Jonah Jameson'},\n",
       " {'userName': 'Danny Torrances Finger'},\n",
       " {'userName': 'Danny Torrance'},\n",
       " {'userName': 'Gonzalo Colsa'},\n",
       " {'userName': 'Manucho'},\n",
       " {'userName': 'Gandalf'},\n",
       " {'userName': 'Tony Stark'},\n",
       " {'userName': 'Gollum'},\n",
       " {'userName': 'Borat'}]"
      ]
     },
     "execution_count": 17,
     "metadata": {},
     "output_type": "execute_result"
    }
   ],
   "source": [
    "query"
   ]
  },
  {
   "cell_type": "code",
   "execution_count": null,
   "metadata": {},
   "outputs": [],
   "source": []
  }
 ],
 "metadata": {
  "kernelspec": {
   "display_name": "Python 3",
   "language": "python",
   "name": "python3"
  },
  "language_info": {
   "codemirror_mode": {
    "name": "ipython",
    "version": 3
   },
   "file_extension": ".py",
   "mimetype": "text/x-python",
   "name": "python",
   "nbconvert_exporter": "python",
   "pygments_lexer": "ipython3",
   "version": "3.7.5rc1"
  }
 },
 "nbformat": 4,
 "nbformat_minor": 2
}
